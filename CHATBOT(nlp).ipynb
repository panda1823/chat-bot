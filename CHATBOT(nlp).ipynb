{
  "cells": [
    {
      "cell_type": "markdown",
      "metadata": {
        "id": "view-in-github",
        "colab_type": "text"
      },
      "source": [
        "<a href=\"https://colab.research.google.com/github/panda1823/chat-bot/blob/main/CHATBOT(nlp).ipynb\" target=\"_parent\"><img src=\"https://colab.research.google.com/assets/colab-badge.svg\" alt=\"Open In Colab\"/></a>"
      ]
    },
    {
      "cell_type": "code",
      "execution_count": null,
      "metadata": {
        "id": "PnZq7vYzOROS"
      },
      "outputs": [],
      "source": [
        "import numpy as np\n",
        "import nltk\n",
        "import string\n",
        "import random"
      ]
    },
    {
      "cell_type": "code",
      "source": [
        "from google.colab import drive\n",
        "drive.mount('/content/drive')"
      ],
      "metadata": {
        "id": "An7xp7Boyn9F"
      },
      "execution_count": null,
      "outputs": []
    },
    {
      "cell_type": "code",
      "execution_count": null,
      "metadata": {
        "id": "kJX1qBEBqnRo"
      },
      "outputs": [],
      "source": [
        "f = open('/content/data1.txt','r',errors = 'ignore')\n",
        "raw_doc = f.read()\n"
      ]
    },
    {
      "cell_type": "code",
      "execution_count": null,
      "metadata": {
        "id": "1wtz7QTmRoA1"
      },
      "outputs": [],
      "source": [
        "raw_doc"
      ]
    },
    {
      "cell_type": "code",
      "execution_count": null,
      "metadata": {
        "colab": {
          "base_uri": "https://localhost:8080/"
        },
        "id": "pW7dqT5GPzXF",
        "outputId": "cc85b630-2642-4f07-88cb-6ab3897acd1e"
      },
      "outputs": [
        {
          "name": "stderr",
          "output_type": "stream",
          "text": [
            "[nltk_data] Downloading package punkt to /root/nltk_data...\n",
            "[nltk_data]   Package punkt is already up-to-date!\n",
            "[nltk_data] Downloading package wordnet to /root/nltk_data...\n",
            "[nltk_data]   Package wordnet is already up-to-date!\n",
            "[nltk_data] Downloading package omw-1.4 to /root/nltk_data...\n",
            "[nltk_data]   Package omw-1.4 is already up-to-date!\n"
          ]
        },
        {
          "data": {
            "text/plain": [
              "True"
            ]
          },
          "execution_count": 24,
          "metadata": {},
          "output_type": "execute_result"
        }
      ],
      "source": [
        "raw_doc = raw_doc.lower()\n",
        "nltk.download('punkt')\n",
        "nltk.download('wordnet')\n",
        "nltk.download('omw-1.4')\n",
        "\n"
      ]
    },
    {
      "cell_type": "code",
      "execution_count": null,
      "metadata": {
        "id": "AlB9I0yOTFZs"
      },
      "outputs": [],
      "source": [
        "sentence_tokens = nltk.sent_tokenize(raw_doc)\n",
        "word_tokens = nltk.word_tokenize(raw_doc)\n",
        "\n"
      ]
    },
    {
      "cell_type": "code",
      "execution_count": null,
      "metadata": {
        "colab": {
          "base_uri": "https://localhost:8080/",
          "height": 35
        },
        "id": "hN07b0kNTMMw",
        "outputId": "ee9097bb-45ba-490d-e040-b2b60a22c3b8"
      },
      "outputs": [
        {
          "data": {
            "application/vnd.google.colaboratory.intrinsic+json": {
              "type": "string"
            },
            "text/plain": [
              "'a'"
            ]
          },
          "execution_count": 12,
          "metadata": {},
          "output_type": "execute_result"
        }
      ],
      "source": [
        "sentence_tokens[:5]"
      ]
    },
    {
      "cell_type": "code",
      "execution_count": null,
      "metadata": {
        "colab": {
          "base_uri": "https://localhost:8080/",
          "height": 35
        },
        "id": "luQeeoCuTfZZ",
        "outputId": "b2adc76b-ee4b-4d8e-9cad-ac5bf6f82524"
      },
      "outputs": [
        {
          "data": {
            "application/vnd.google.colaboratory.intrinsic+json": {
              "type": "string"
            },
            "text/plain": [
              "'a'"
            ]
          },
          "execution_count": 13,
          "metadata": {},
          "output_type": "execute_result"
        }
      ],
      "source": [
        "word_tokens[2]"
      ]
    },
    {
      "cell_type": "code",
      "execution_count": null,
      "metadata": {
        "id": "vm-5hl8OTjTO"
      },
      "outputs": [],
      "source": [
        "lemmer = nltk.stem.WordNetLemmatizer()\n",
        "def LemTokens(tokens):\n",
        "   return [lemmer.lemmatize(token) for token in tokens]\n",
        "remove_punc_dict = dict((ord(punct), None) for punct in string.punctuation)\n",
        "def LemNormalize(text):\n",
        "   return LemTokens(nltk.word_tokenize(text.lower().translate(remove_punc_dict)))"
      ]
    },
    {
      "cell_type": "code",
      "execution_count": null,
      "metadata": {
        "id": "Io0P9YfFU2fA"
      },
      "outputs": [],
      "source": [
        "greet_inputs = ('hello','hi','whassup','how are you')\n",
        "greet_responses = ('hey','hi','hey there!','there there!!')\n",
        "def greet(sentence):\n",
        "   for word in sentence.split():\n",
        "     if word.lower() in greet_inputs:\n",
        "       return random.choice(greet_responses)\n"
      ]
    },
    {
      "cell_type": "code",
      "execution_count": null,
      "metadata": {
        "id": "v4qffOtMWVj1"
      },
      "outputs": [],
      "source": [
        "from sklearn.feature_extraction.text import TfidfVectorizer\n",
        "from sklearn.metrics.pairwise import cosine_similarity"
      ]
    },
    {
      "cell_type": "code",
      "execution_count": null,
      "metadata": {
        "id": "PAAhCfm7XAzH"
      },
      "outputs": [],
      "source": []
    },
    {
      "cell_type": "code",
      "execution_count": null,
      "metadata": {
        "id": "5DHqZlJaXBmm"
      },
      "outputs": [],
      "source": [
        "def response(user_response):\n",
        "   robo1_response = ''\n",
        "   TfidfVec = TfidfVectorizer(tokenizer = LemNormalize, stop_words = 'english')\n",
        "   tfidf = TfidfVec.fit_transform(sentence_tokens)\n",
        "   vals = cosine_similarity(tfidf[-1], tfidf)\n",
        "   idx = vals.argsort()[0][-2]\n",
        "   flat = vals.flatten()\n",
        "   flat.sort()\n",
        "   req_tfidf = flat[-2]\n",
        "   if (req_tfidf == 0):\n",
        "       robo1_response = robo1_response + \"I am sorry. Unable to understand you!\"\n",
        "       return robo1_response\n",
        "   else:\n",
        "       robo1_response = robo1_response+ sentence_tokens[idx]\n",
        "       return robo1_response"
      ]
    },
    {
      "cell_type": "code",
      "execution_count": null,
      "metadata": {
        "id": "tVXv1jQyZ1V5"
      },
      "outputs": [],
      "source": []
    },
    {
      "cell_type": "code",
      "execution_count": null,
      "metadata": {
        "colab": {
          "background_save": true,
          "base_uri": "https://localhost:8080/"
        },
        "id": "7h0aV7ZvZbde",
        "outputId": "6c4d9a42-2ca8-4003-813b-1c52f6503a97"
      },
      "outputs": [
        {
          "name": "stdout",
          "output_type": "stream",
          "text": [
            "Hello! I am the Learning Bot. Start typing your text after greeting to talk to me. For ending convo type bye!\n",
            "Bot : hey\n",
            "Bot:I am sorry. Unable to understand you!\n",
            "Bot : hey there!\n",
            "Bot:what is a chatbot?\n",
            "Bot:such rudimentary, traditional chatbots are unable to process complex questions, nor answer simple questions that haven’t been predicted by developers.\n",
            "Bot:I am sorry. Unable to understand you!\n",
            "Bot:it’s also important to understand if and how data is used, as it can have major impacts in highly regulated industries.\n"
          ]
        }
      ],
      "source": [
        "flag = True\n",
        "print('Hello! I am the Learning Bot. Start typing your text after greeting to talk to me. For ending convo type bye!')\n",
        "while(flag == True):\n",
        "  user_response = input()\n",
        "  user_response = user_response.lower()\n",
        "  if(user_response != 'bye'):\n",
        "     if(user_response == 'thank you' or user_response == 'thanks'):\n",
        "        flag = False\n",
        "        print('Bot:You are Welcome')\n",
        "     else:\n",
        "         if(greet(user_response) != None):\n",
        "            print(\"Bot : \" + greet(user_response))\n",
        "         else:\n",
        "            sentence_tokens.append(user_response)\n",
        "            word_tokens = word_tokens + nltk.word_tokenize(user_response)\n",
        "            final_words = list (set(word_tokens))\n",
        "            print('Bot:', end = '')\n",
        "            print(response(user_response))\n",
        "            sentence_tokens.remove(user_response)\n",
        "  else:\n",
        "    flag = False\n",
        "    print('Bot: Goodbye!')"
      ]
    }
  ],
  "metadata": {
    "colab": {
      "provenance": [],
      "authorship_tag": "ABX9TyP4w2Z3rvI7t+byCl1rCrF/",
      "include_colab_link": true
    },
    "kernelspec": {
      "display_name": "Python 3",
      "name": "python3"
    },
    "language_info": {
      "name": "python"
    }
  },
  "nbformat": 4,
  "nbformat_minor": 0
}